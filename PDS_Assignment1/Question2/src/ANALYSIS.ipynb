{
 "cells": [
  {
   "cell_type": "code",
   "execution_count": null,
   "id": "504d4258",
   "metadata": {},
   "outputs": [],
   "source": [
    "import pandas as pd\n",
    "\n",
    "# Imported StudentsPerformanceRaw.csv\n",
    "StudentsPerformanceRaw = pd.read_csv(\"..\\data_raw\\StudentsPerformanceRaw.csv\")\n",
    "\n",
    "\n",
    "# Pivoted StudentsPerformanceRaw into StudentsPerformanceRaw_pivot\n",
    "tmp_df = StudentsPerformanceRaw[['gender', 'reading score', 'race/ethnicity', 'math score', 'writing score']].copy()\n",
    "pivot_table = tmp_df.pivot_table(\n",
    "    columns=['race/ethnicity', 'gender'],\n",
    "    values=['math score', 'reading score', 'writing score'],\n",
    "    aggfunc={'math score': ['mean'], 'reading score': ['mean'], 'writing score': ['mean']}\n",
    ")\n",
    "pivot_table.set_axis([flatten_column_header(col) for col in pivot_table.keys()], axis=1, inplace=True)\n",
    "StudentsPerformanceRaw_pivot = pivot_table.reset_index()\n",
    "\n",
    "# Pivoted StudentsPerformanceRaw into StudentsPerformanceRaw_pivot\n",
    "tmp_df = StudentsPerformanceRaw[['reading score', 'math score', 'race/ethnicity', 'writing score']].copy()\n",
    "pivot_table = tmp_df.pivot_table(\n",
    "    columns=['race/ethnicity'],\n",
    "    values=['math score', 'reading score', 'writing score'],\n",
    "    aggfunc={'math score': ['mean'], 'reading score': ['mean'], 'writing score': ['mean']}\n",
    ")\n",
    "pivot_table.set_axis([flatten_column_header(col) for col in pivot_table.keys()], axis=1, inplace=True)\n",
    "StudentsPerformanceRaw_pivot = pivot_table.reset_index()\n",
    "\n",
    "# Set formula of ScoreMean\n",
    "StudentsPerformanceRaw['ScoreMean'] = StudentsPerformanceRaw[['math score', 'reading score', 'writing score']].mean(axis = 1)\n",
    "StudentsPerformanceRaw.head()\n",
    "\n",
    "# Pivoted StudentsPerformanceRaw into StudentsPerformanceRaw_pivot_2\n",
    "tmp_df = StudentsPerformanceRaw[['race/ethnicity', 'parental level of education']].copy()\n",
    "pivot_table = tmp_df.pivot_table(\n",
    "    index=['race/ethnicity'],\n",
    "    columns=['parental level of education'],\n",
    "    values=['parental level of education'],\n",
    "    aggfunc={'parental level of education': ['count']}\n",
    ")\n",
    "pivot_table.set_axis([flatten_column_header(col) for col in pivot_table.keys()], axis=1, inplace=True)\n",
    "StudentsPerformanceRaw_pivot_2 = pivot_table.reset_index()\n"
   ]
  },
  {
   "cell_type": "code",
   "execution_count": null,
   "id": "74cfc45d",
   "metadata": {},
   "outputs": [],
   "source": [
    "import plotly.express as px\n",
    "# Construct the graph and style it. Further customize your graph by editing this code.\n",
    "# See Plotly Documentation for help: https://plotly.com/python/plotly-express/\n",
    "fig = px.scatter(StudentsPerformanceRaw_pivot, x=['group A', 'group B', 'group C', 'group D', 'group E'], y='level_0')\n",
    "fig.update_layout(\n",
    "    title='group A, group B, group C, group D, group E, level_0 scatter plot', \n",
    "    xaxis = dict(\n",
    "        showgrid=True, \n",
    "        rangeslider = dict(\n",
    "            visible=True, \n",
    "            thickness=0.05\n",
    "        )\n",
    "    ), \n",
    "    yaxis = dict(\n",
    "        showgrid=True\n",
    "    ), \n",
    "    legend = dict(\n",
    "        orientation='v'\n",
    "    ), \n",
    "    paper_bgcolor='#FFFFFF'\n",
    ")\n",
    "fig.show(renderer=\"iframe\")"
   ]
  },
  {
   "cell_type": "code",
   "execution_count": 28,
   "id": "edf79d19",
   "metadata": {},
   "outputs": [
    {
     "data": {
      "text/html": [
       "<iframe\n",
       "    scrolling=\"no\"\n",
       "    width=\"100%\"\n",
       "    height=\"545px\"\n",
       "    src=\"iframe_figures/figure_112.html\"\n",
       "    frameborder=\"0\"\n",
       "    allowfullscreen\n",
       "></iframe>\n"
      ]
     },
     "metadata": {},
     "output_type": "display_data"
    }
   ],
   "source": [
    "import plotly.express as px\n",
    "# Construct the graph and style it. Further customize your graph by editing this code.\n",
    "# See Plotly Documentation for help: https://plotly.com/python/plotly-express/\n",
    "fig = px.box(StudentsPerformanceRaw, x='parental level of education', y='ScoreMean', points='outliers')\n",
    "fig.update_layout(\n",
    "    title='parental level of education, ScoreMean box plot', \n",
    "    xaxis = dict(\n",
    "        showgrid=True, \n",
    "        rangeslider = dict(\n",
    "            visible=True, \n",
    "            thickness=0.05\n",
    "        )\n",
    "    ), \n",
    "    yaxis = dict(\n",
    "        showgrid=True\n",
    "    ), \n",
    "    legend = dict(\n",
    "        orientation='v'\n",
    "    ), \n",
    "    paper_bgcolor='#FFFFFF'\n",
    ")\n",
    "fig.show(renderer=\"iframe\")"
   ]
  },
  {
   "cell_type": "code",
   "execution_count": 29,
   "id": "9111209f",
   "metadata": {},
   "outputs": [
    {
     "data": {
      "text/html": [
       "<iframe\n",
       "    scrolling=\"no\"\n",
       "    width=\"100%\"\n",
       "    height=\"545px\"\n",
       "    src=\"iframe_figures/figure_112.html\"\n",
       "    frameborder=\"0\"\n",
       "    allowfullscreen\n",
       "></iframe>\n"
      ]
     },
     "metadata": {},
     "output_type": "display_data"
    }
   ],
   "source": [
    "import plotly.express as px\n",
    "# Construct the graph and style it. Further customize your graph by editing this code.\n",
    "# See Plotly Documentation for help: https://plotly.com/python/plotly-express/\n",
    "fig = px.strip(StudentsPerformanceRaw, x='lunch', y='ScoreMean', color='gender')\n",
    "fig.update_layout(\n",
    "    title='lunch, ScoreMean strip', \n",
    "    xaxis = dict(\n",
    "        showgrid=True, \n",
    "        rangeslider = dict(\n",
    "            visible=True, \n",
    "            thickness=0.05\n",
    "        )\n",
    "    ), \n",
    "    yaxis = dict(\n",
    "        showgrid=True\n",
    "    ), \n",
    "    legend = dict(\n",
    "        orientation='v'\n",
    "    ), \n",
    "    paper_bgcolor='#FFFFFF'\n",
    ")\n",
    "fig.show(renderer=\"iframe\")"
   ]
  },
  {
   "cell_type": "code",
   "execution_count": 30,
   "id": "e234e9a5",
   "metadata": {},
   "outputs": [
    {
     "data": {
      "text/html": [
       "<iframe\n",
       "    scrolling=\"no\"\n",
       "    width=\"100%\"\n",
       "    height=\"545px\"\n",
       "    src=\"iframe_figures/figure_112.html\"\n",
       "    frameborder=\"0\"\n",
       "    allowfullscreen\n",
       "></iframe>\n"
      ]
     },
     "metadata": {},
     "output_type": "display_data"
    }
   ],
   "source": [
    "import plotly.express as px\n",
    "# Construct the graph and style it. Further customize your graph by editing this code.\n",
    "# See Plotly Documentation for help: https://plotly.com/python/plotly-express/\n",
    "fig = px.box(StudentsPerformanceRaw, y=['math score', 'reading score', 'writing score'], color='test preparation course', points='outliers')\n",
    "fig.update_layout(\n",
    "    title='math score, reading score, writing score box plot', \n",
    "    xaxis = dict(\n",
    "        showgrid=True, \n",
    "        rangeslider = dict(\n",
    "            visible=True, \n",
    "            thickness=0.05\n",
    "        )\n",
    "    ), \n",
    "    yaxis = dict(\n",
    "        showgrid=True\n",
    "    ), \n",
    "    legend = dict(\n",
    "        orientation='v'\n",
    "    ), \n",
    "    paper_bgcolor='#FFFFFF'\n",
    ")\n",
    "fig.show(renderer=\"iframe\")"
   ]
  },
  {
   "cell_type": "code",
   "execution_count": 31,
   "id": "2ac35a13",
   "metadata": {},
   "outputs": [
    {
     "data": {
      "text/html": [
       "<iframe\n",
       "    scrolling=\"no\"\n",
       "    width=\"100%\"\n",
       "    height=\"545px\"\n",
       "    src=\"iframe_figures/figure_112.html\"\n",
       "    frameborder=\"0\"\n",
       "    allowfullscreen\n",
       "></iframe>\n"
      ]
     },
     "metadata": {},
     "output_type": "display_data"
    }
   ],
   "source": [
    "import plotly.express as px\n",
    "# Construct the graph and style it. Further customize your graph by editing this code.\n",
    "# See Plotly Documentation for help: https://plotly.com/python/plotly-express/\n",
    "fig = px.bar(StudentsPerformanceRaw_pivot_2, x='race/ethnicity', y=[\"parental level of education count associate's degree\", \"parental level of education count bachelor's degree\", 'parental level of education count high school', \"parental level of education count master's degree\"])\n",
    "fig.update_layout(\n",
    "    title=\"race/ethnicity, parental level of education count associate's degree, parental level of education count bachelor's degree, parental level of education count high school, parental level of education count master's degree bar chart\", \n",
    "    xaxis = dict(\n",
    "        showgrid=True, \n",
    "        rangeslider = dict(\n",
    "            visible=True, \n",
    "            thickness=0.05\n",
    "        )\n",
    "    ), \n",
    "    yaxis = dict(\n",
    "        showgrid=True\n",
    "    ), \n",
    "    legend = dict(\n",
    "        orientation='v'\n",
    "    ), \n",
    "    barmode='group', \n",
    "    paper_bgcolor='#FFFFFF'\n",
    ")\n",
    "fig.show(renderer=\"iframe\")"
   ]
  },
  {
   "cell_type": "code",
   "execution_count": null,
   "id": "82b65904",
   "metadata": {},
   "outputs": [],
   "source": []
  },
  {
   "cell_type": "code",
   "execution_count": null,
   "id": "55585258",
   "metadata": {},
   "outputs": [],
   "source": []
  },
  {
   "cell_type": "code",
   "execution_count": null,
   "id": "53b64e6d",
   "metadata": {},
   "outputs": [],
   "source": []
  }
 ],
 "metadata": {
  "kernelspec": {
   "display_name": "Python 3 (ipykernel)",
   "language": "python",
   "name": "python3"
  },
  "language_info": {
   "codemirror_mode": {
    "name": "ipython",
    "version": 3
   },
   "file_extension": ".py",
   "mimetype": "text/x-python",
   "name": "python",
   "nbconvert_exporter": "python",
   "pygments_lexer": "ipython3",
   "version": "3.9.13"
  }
 },
 "nbformat": 4,
 "nbformat_minor": 5
}
